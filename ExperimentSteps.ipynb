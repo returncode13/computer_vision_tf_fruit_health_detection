{
 "cells": [
  {
   "cell_type": "markdown",
   "metadata": {},
   "source": [
    "**REFERENCES**  \n",
    "Image Classification: https://medium.com/zylapp/review-of-deep-learning-algorithms-for-image-classification-5fdbca4a05e2  \n",
    "Object Detection: https://medium.com/zylapp/review-of-deep-learning-algorithms-for-object-detection-c1f3d437b852  \n",
    "Semantic Segmentation:  https://divamgupta.com/image-segmentation/2019/06/06/deep-learning-semantic-segmentation-keras.html  \n",
    "Semantic Segmentation:  https://nanonets.com/blog/semantic-image-segmentation-2020/  \n",
    "Semantic Segmentation:  https://nanonets.com/blog/semantic-image-segmentation-2020/  \n",
    "\n",
    "\n",
    "**DOCKER**  \n",
    "1. change the default docker-root to something more spacious https://stackoverflow.com/a/50217666/7835192  \n",
    "\n",
    "**TENSORFLOW GPU INSTALL**  \n",
    "1. https://www.tensorflow.org/install/gpu  \n",
    "2. Install nvdia-docker support https://github.com/NVIDIA/nvidia-docker  \n",
    "3. TF-gpu docker image e.g docker run --gpus all -it tensorflow/tensorflow:latest-gpu bash\n",
    "\n",
    "\n",
    "\n",
    "**DATA:**  \n",
    "convert bounding boxes from COCO format to YOLO   \n",
    "create a tf dataset for images  \n",
    "balance the dataset  \n",
    "augmentation  \n",
    "  \n",
    "Load data into tf.data.Dataset to feed into model.  \n",
    "see https://stackoverflow.com/questions/62346965/input-pipeline-w-keras-utils-sequence-object-or-tf-data-dataset   \n",
    "create a Sequence to output batches   //for multiprocessing/  \n",
    "create a generate that yields batches using this Sequence  \n",
    "create a tf.data.Dataset using generator  \n",
    "\n",
    "**DATASET:**  \n",
    "\n",
    "\n",
    "**MODEL**  \n",
    "YOLO Model: *github* : https://github.com/samson6460/tf2_YOLO.git   \n",
    "\n"
   ]
  },
  {
   "cell_type": "code",
   "execution_count": null,
   "metadata": {},
   "outputs": [],
   "source": []
  }
 ],
 "metadata": {
  "kernelspec": {
   "display_name": "Python 3",
   "language": "python",
   "name": "python3"
  },
  "language_info": {
   "codemirror_mode": {
    "name": "ipython",
    "version": 3
   },
   "file_extension": ".py",
   "mimetype": "text/x-python",
   "name": "python",
   "nbconvert_exporter": "python",
   "pygments_lexer": "ipython3",
   "version": "3.6.9"
  }
 },
 "nbformat": 4,
 "nbformat_minor": 4
}
